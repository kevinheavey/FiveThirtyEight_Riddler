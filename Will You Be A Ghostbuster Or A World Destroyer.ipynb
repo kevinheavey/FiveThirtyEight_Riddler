{
 "cells": [
  {
   "cell_type": "markdown",
   "metadata": {},
   "source": [
    "Analytic and simulated solutions to FiveThirtyEight's Riddler Express of 2017/09/15. [Link](https://fivethirtyeight.com/features/will-you-be-a-ghostbuster-or-a-world-destroyer/)"
   ]
  },
  {
   "cell_type": "markdown",
   "metadata": {},
   "source": [
    "### Question:\n",
    "\n",
    "Twenty ghostbusters are on their annual camping retreat. Two of them, Abe and Betty, have discovered that another pair, Candace and Dan, are in fact ghosts posing as ghostbusters. Abe and Betty hatch a plan: When all 20 campers are sitting in a circle around the campfire, Abe will fire his proton pack at Candace, and Betty will simultaneously fire her proton pack at Dan, annihilating the ghosts. However, if two proton streams cross, it means the end of all life on Earth.\n",
    "\n",
    "If the ghostbusters are arranged randomly around the fire, what are the chances that Abe and Betty will cross streams?"
   ]
  },
  {
   "cell_type": "markdown",
   "metadata": {},
   "source": [
    "### Analytic Solution:\n",
    "\n",
    "Two chords are created from random endpoints on the circle of radius $r$.\n",
    "\n",
    "However, instead of thinking of four random points on a circle, it is more useful to think of any four distinct points on a circle randomly paired off with each other. There are three different ways you can pair off these points: one way will cause the chords to intersect, the other two will not. No pairing is more likely than another pairing, so the probability that the chords will intersect (the streams will cross) is $1/3$."
   ]
  },
  {
   "cell_type": "markdown",
   "metadata": {},
   "source": [
    "If this is unconvincing, look at what happens if we simulate this process:"
   ]
  },
  {
   "cell_type": "markdown",
   "metadata": {},
   "source": [
    "### Simulated solution:\n",
    "\n",
    "We generate random endpoints using a uniform distribution $\\theta \\sim U(0, 2\\pi)$ where each endpoint is $(rcos\\theta, rsin\\theta)$. Without loss of generality, assume that the first endpoint is at $(r, 0)$ i.e. $\\theta_0 = 0$. Let this point be where Abe is sitting, and let $\\theta_1$ be the angle Betty makes with the origin. Let $\\theta_2$ and $\\theta_3$ correspond to the ghosts Candace and Dan respectively.\n",
    "\n",
    "The streams cross if:\n",
    "\n",
    "$\\theta_2 < \\theta_1 < \\theta_3$ OR $\\theta_3 < \\theta_1 < \\theta_2$\n",
    "\n",
    "By symmetry, the probability that the streams cross is $2P(\\theta_2 < \\theta_1 < \\theta_3)$."
   ]
  },
  {
   "cell_type": "markdown",
   "metadata": {},
   "source": [
    "![Circle](https://qph.ec.quoracdn.net/main-qimg-6c37335d3f30852c021ad1180b35f1da)"
   ]
  },
  {
   "cell_type": "code",
   "execution_count": 1,
   "metadata": {
    "collapsed": true
   },
   "outputs": [],
   "source": [
    "import numpy as np"
   ]
  },
  {
   "cell_type": "code",
   "execution_count": 46,
   "metadata": {},
   "outputs": [
    {
     "data": {
      "text/plain": [
       "0.33350999999999997"
      ]
     },
     "execution_count": 46,
     "metadata": {},
     "output_type": "execute_result"
    }
   ],
   "source": [
    "n_realisations = 1000000\n",
    "angles = np.random.uniform(0, 2*np.pi, (n_realisations, 3))\n",
    "2*((angles[:, 0] > angles[:, 1]) & (angles[:, 0] < angles[:, 2])).sum() / n_realisations"
   ]
  },
  {
   "cell_type": "markdown",
   "metadata": {},
   "source": [
    "Clearly, the simulated solution converges to $1/3$"
   ]
  }
 ],
 "metadata": {
  "kernelspec": {
   "display_name": "Python 3",
   "language": "python",
   "name": "python3"
  },
  "language_info": {
   "codemirror_mode": {
    "name": "ipython",
    "version": 3
   },
   "file_extension": ".py",
   "mimetype": "text/x-python",
   "name": "python",
   "nbconvert_exporter": "python",
   "pygments_lexer": "ipython3",
   "version": "3.6.1"
  }
 },
 "nbformat": 4,
 "nbformat_minor": 2
}
