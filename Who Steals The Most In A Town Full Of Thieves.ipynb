{
 "cells": [
  {
   "cell_type": "markdown",
   "metadata": {},
   "source": [
    "Analytic and simulated solutions for FiveThirtyEight's Riddler Classic of 2017/06/30. [Link](https://fivethirtyeight.com/features/who-steals-the-most-in-a-town-full-of-thieves/)"
   ]
  },
  {
   "cell_type": "markdown",
   "metadata": {},
   "source": [
    "### Question:\n",
    "\n",
    "A town of 1,000 households has a strange law intended to prevent wealth-hoarding. On January 1 of every year, each household robs one other household, selected at random, moving all of that house’s money into their own house. The order in which the robberies take place is also random and is determined by a lottery. (Note that if House A robs House B first, and then C robs A, the houses of A and B would each be empty and C would have acquired the resources of both A and B.)\n",
    "\n",
    "Two questions about this fateful day:\n",
    "\n",
    "1. What is the probability that a house is not robbed over the course of the day?\n",
    "\n",
    "2. Suppose that every house has the same amount of cash to begin with — say $100. Which position in the lottery has the most expected cash at the end of the day, and what is that amount?"
   ]
  },
  {
   "cell_type": "code",
   "execution_count": 1,
   "metadata": {
    "collapsed": true
   },
   "outputs": [],
   "source": [
    "import numpy as np\n",
    "import pandas as pd\n",
    "import seaborn as sns\n",
    "%matplotlib inline"
   ]
  },
  {
   "cell_type": "markdown",
   "metadata": {},
   "source": [
    "### Analytic solutions"
   ]
  },
  {
   "cell_type": "markdown",
   "metadata": {},
   "source": [
    "#### Q1\n",
    "\n",
    "There are $999$ other houses, and each house could rob you or one of 998 other houses. Thus the probability of not being robbed by a given house is $\\frac{998}{999}$\n",
    "\n",
    "Then the probability of not being robbed by all $999$ other houses is $(\\frac{998}{999})^{999} \\approx 0.368$"
   ]
  },
  {
   "cell_type": "markdown",
   "metadata": {},
   "source": [
    "#### Q2\n",
    "\n",
    "This is a zero-sum game: the sum of money in all the houses is always $999 \\times 100 = 99900$\n",
    "\n",
    "If a given house has not been robbed by the time their turn comes around, then the amount of money in all the other houses is $999 \\times 100 - 100 = 99800$. Therefore this house can expect to steal $\\frac{99800}{998} = 100$ on their turn.\n",
    "\n",
    "If the given house has already been robbed then the amount of money in all the other houses is $999 \\times 100 = 99900$, and this house can expect to steal $\\frac{99900}{998} \\approx 100.1$ \n",
    "\n",
    "Let $W$ denote a house's final weealth.\n",
    "\n",
    "Each house can either:\n",
    "\n",
    "1. Be robbed after its turn: $E(W) = 0$\n",
    "\n",
    "2. Be robbed before its turn and not robbed after: $E(W) = \\frac{99900}{998} \\approx 100.1$\n",
    "\n",
    "3. Avoid being robbed: $E(W) = 100 + \\frac{99800}{998} = 100$\n",
    "\n",
    "The probability of not being robbed after $k$ other houses have had their turn is $(\\frac{998}{999})^k$\n",
    "\n",
    "Let $i$ denote a given houses's position in the draw, with $1$ being the first house to go out stealing and $1000$ being the last house to go out stealing\n",
    "\n",
    "$P(outcome \\ 2) = (1 - (\\frac{998}{999})^{i-1})(\\frac{998}{999})^{1000 - i})$\n",
    "\n",
    "$P(outcome \\ 3) = (\\frac{998}{999})^{999}$ as in question 1\n",
    "\n",
    "$E(W) = \\frac{99900}{998}(1 - (\\frac{998}{999})^{i-1})(\\frac{998}{999})^{1000 - i}) + 200(\\frac{998}{999})^{999}$ \n",
    "\n",
    "$E(W)$ is greatest when $i=1000$ i.e. the last house has the highest expected wealth at the end of the day, with $W \\approx 136.83$"
   ]
  },
  {
   "cell_type": "markdown",
   "metadata": {},
   "source": [
    "### Simulation\n",
    "\n",
    "#### Q2"
   ]
  },
  {
   "cell_type": "code",
   "execution_count": 2,
   "metadata": {
    "scrolled": true
   },
   "outputs": [],
   "source": [
    "lower_bound = 0\n",
    "n_houses = 1000\n",
    "n_trials = 10000\n",
    "lottery_draws = pd.DataFrame(np.random.randint(0, n_houses, (n_trials, n_houses)))\n",
    "# we create a dataframe where:\n",
    "# each row is a trial\n",
    "# column names are house numbers 0-999\n",
    "# each entry i, j is the house number of the victim of the jth house on the ith trial\n",
    "def check_self_robbing(lottery_draws, house):\n",
    "    return (lottery_draws[house] == house)\n",
    "\n",
    "for house in lottery_draws:\n",
    "    # we fix all entries where houses are robbing themselves\n",
    "    while check_self_robbing(lottery_draws, house).any():\n",
    "        victim_check = check_self_robbing(lottery_draws, house)\n",
    "        new_val = np.random.randint(lower_bound, n_houses, victim_check.sum())\n",
    "        lottery_draws[house].loc[victim_check] = new_val\n",
    "\n",
    "initial_distribution = {i:100 for i in range(n_houses)}\n",
    "def single_trial(trial_number):\n",
    "    distribution = initial_distribution.copy()\n",
    "    for house in distribution:\n",
    "        victim = lottery_draws.loc[trial_number, house]\n",
    "        distribution[house] += distribution[victim]\n",
    "        distribution[victim] = 0\n",
    "    return distribution\n",
    "\n",
    "trials = pd.DataFrame([single_trial(i) for i in range(n_trials)])"
   ]
  },
  {
   "cell_type": "markdown",
   "metadata": {},
   "source": [
    "### $E(W)$ against lottery position"
   ]
  },
  {
   "cell_type": "code",
   "execution_count": 3,
   "metadata": {
    "scrolled": true
   },
   "outputs": [
    {
     "data": {
      "text/plain": [
       "<matplotlib.axes._subplots.AxesSubplot at 0x26412732fd0>"
      ]
     },
     "execution_count": 3,
     "metadata": {},
     "output_type": "execute_result"
    },
    {
     "data": {
      "image/png": "[encoded data removed]",
      "text/plain": [
       "<matplotlib.figure.Figure at 0x26412732518>"
      ]
     },
     "metadata": {},
     "output_type": "display_data"
    }
   ],
   "source": [
    "expectations = trials.mean()\n",
    "expectations.plot(style='.')"
   ]
  },
  {
   "cell_type": "code",
   "execution_count": 4,
   "metadata": {},
   "outputs": [
    {
     "data": {
      "text/plain": [
       "991    137.74\n",
       "993    137.54\n",
       "985    137.52\n",
       "984    137.50\n",
       "998    137.39\n",
       "dtype: float64"
      ]
     },
     "execution_count": 4,
     "metadata": {},
     "output_type": "execute_result"
    }
   ],
   "source": [
    "expectations.nlargest(5)"
   ]
  },
  {
   "cell_type": "markdown",
   "metadata": {},
   "source": [
    "#### Note: \n",
    "\n",
    "The simulated solution converges somewhat slowly to the true answer, as we can see even with 10,000 trials the last house has failed to come out with the highest sample mean."
   ]
  }
 ],
 "metadata": {
  "kernelspec": {
   "display_name": "Python 3",
   "language": "python",
   "name": "python3"
  },
  "language_info": {
   "codemirror_mode": {
    "name": "ipython",
    "version": 3
   },
   "file_extension": ".py",
   "mimetype": "text/x-python",
   "name": "python",
   "nbconvert_exporter": "python",
   "pygments_lexer": "ipython3",
   "version": "3.6.1"
  }
 },
 "nbformat": 4,
 "nbformat_minor": 2
}
