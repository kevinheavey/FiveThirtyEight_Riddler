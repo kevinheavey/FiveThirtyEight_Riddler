{
 "cells": [
  {
   "cell_type": "markdown",
   "metadata": {},
   "source": [
    "Solutions  (by simulation) to 538's Riddler Classic of 2017/09/15. [Link](https://fivethirtyeight.com/features/will-you-be-a-ghostbuster-or-a-world-destroyer/?ex_cid=the-riddler)"
   ]
  },
  {
   "cell_type": "code",
   "execution_count": 6,
   "metadata": {
    "collapsed": true
   },
   "outputs": [],
   "source": [
    "import numpy as np"
   ]
  },
  {
   "cell_type": "markdown",
   "metadata": {},
   "source": [
    "### Q1: \n",
    "\n",
    "If you break a stick in two places at random, forming three pieces, what is the probability of being able to form a triangle with the pieces?\n",
    "\n",
    "\n",
    "#### Solution: \n",
    "\n",
    "Assume without loss of generality that we have a stick with endpoints at $0$ and $1$. The positions of the cuts we make to the stick will then be uniformly distributed between $0$ and $1$. Let $l$ be the position of the leftmost cut and $r$ the position of the rightmost cut. The lengths of each segment, will then be $l$, $r-l$ and $1-r$. While it isn't overly complicated to find a solution using convolutions of uniform random variables, we will use simulation here to estimate the probability of being able to form the triangle.\n",
    "\n",
    "**Remark:** we can form a triangle from the segments iff no segment is longer than the sum of the lengths of the other two segments. Therefore, for a stick of length $1$ the length of each segment must be less than $0.5$.\n",
    "\n",
    "We simulate this by generating realisations of two standard uniform random variables (the positions of the cuts), then calculating the lengths of the segments formed by these cuts."
   ]
  },
  {
   "cell_type": "code",
   "execution_count": 11,
   "metadata": {},
   "outputs": [
    {
     "data": {
      "text/plain": [
       "0.25005699999999997"
      ]
     },
     "execution_count": 11,
     "metadata": {},
     "output_type": "execute_result"
    }
   ],
   "source": [
    "n_realisations = 10000000\n",
    "cuts = np.random.uniform(size=(n_realisations, 2))\n",
    "left_segment_length = cuts.min(axis=1)\n",
    "_cuts_max = cuts.max(axis=1)\n",
    "middle_segment_length = _cuts_max - left_segment_length\n",
    "right_segment_length = 1 - _cuts_max\n",
    "\n",
    "segment_lengths = np.vstack((left_segment_length, middle_segment_length, right_segment_length)).T\n",
    "segment_lengths.sort(axis=1) # this comes in handy in q3\n",
    "\n",
    "(segment_lengths[:, 2] < 0.5).sum() / n_realisations"
   ]
  },
  {
   "cell_type": "markdown",
   "metadata": {},
   "source": [
    "#### Answer Q1:\n",
    "\n",
    "$\\frac{1}{4}$"
   ]
  },
  {
   "cell_type": "markdown",
   "metadata": {},
   "source": [
    "### Q2:\n",
    "\n",
    "If you select three sticks, each of random length (between 0 and 1), what is the probability of being able to form a triangle with them?\n",
    "\n",
    "#### Solution:\n",
    "\n",
    "We can form a triangle from the sticks iff no stick is longer than the sum of the lengths of the other two sticks. We generate realisations of three standard uniform random variables (the stick lengths), find the longest stick for each sample and compare it to the other two sticks."
   ]
  },
  {
   "cell_type": "code",
   "execution_count": 12,
   "metadata": {},
   "outputs": [
    {
     "data": {
      "text/plain": [
       "0.50004879999999996"
      ]
     },
     "execution_count": 12,
     "metadata": {},
     "output_type": "execute_result"
    }
   ],
   "source": [
    "stick_lengths = np.random.uniform(size=(n_realisations, 3))\n",
    "stick_lengths.sort(axis=1)\n",
    "\n",
    "(stick_lengths[:, 2] < stick_lengths[:, 0] + stick_lengths[:, 1]).sum() / n_realisations"
   ]
  },
  {
   "cell_type": "markdown",
   "metadata": {},
   "source": [
    "#### Answer Q2:\n",
    "\n",
    "$\\frac{1}{2}$"
   ]
  },
  {
   "cell_type": "markdown",
   "metadata": {},
   "source": [
    "### Q3:\n",
    "\n",
    "If you break a stick in two places at random, what is the probability of being able to form an acute triangle — where each angle is less than 90 degrees — with the pieces?\n",
    "\n",
    "#### Solution:\n",
    "\n",
    "To form an acute triangle we need $c^2 < a^2 + b^2$ for any choice of sides of length $a, b, c$. It is sufficient to let $c$ be the length of the longest side. We can use the segment lengths we generated in Q1."
   ]
  },
  {
   "cell_type": "code",
   "execution_count": 13,
   "metadata": {},
   "outputs": [
    {
     "data": {
      "text/plain": [
       "0.079457200000000006"
      ]
     },
     "execution_count": 13,
     "metadata": {},
     "output_type": "execute_result"
    }
   ],
   "source": [
    "squared_segment_lengths = segment_lengths ** 2\n",
    "(squared_segment_lengths[:, 2] < squared_segment_lengths[:, 0] + squared_segment_lengths[:, 1]).sum() / n_realisations"
   ]
  },
  {
   "cell_type": "markdown",
   "metadata": {},
   "source": [
    "#### Answer Q3:\n",
    "\n",
    "$p \\approx 0.0795$"
   ]
  },
  {
   "cell_type": "markdown",
   "metadata": {},
   "source": [
    "### Q4: \n",
    "\n",
    "If you select three sticks, each of random length (between 0 and 1), what is the probability of being able to form an acute triangle with the sticks?"
   ]
  },
  {
   "cell_type": "code",
   "execution_count": 14,
   "metadata": {},
   "outputs": [
    {
     "data": {
      "text/plain": [
       "0.2147452"
      ]
     },
     "execution_count": 14,
     "metadata": {},
     "output_type": "execute_result"
    }
   ],
   "source": [
    "squared_stick_lengths = stick_lengths ** 2\n",
    "(squared_stick_lengths[:, 2] < squared_stick_lengths[:, 0] + squared_stick_lengths[:, 1]).sum() / n_realisations"
   ]
  },
  {
   "cell_type": "markdown",
   "metadata": {},
   "source": [
    "#### Answer Q4:\n",
    "\n",
    "$p \\approx 0.215$"
   ]
  }
 ],
 "metadata": {
  "kernelspec": {
   "display_name": "Python 3",
   "language": "python",
   "name": "python3"
  },
  "language_info": {
   "codemirror_mode": {
    "name": "ipython",
    "version": 3
   },
   "file_extension": ".py",
   "mimetype": "text/x-python",
   "name": "python",
   "nbconvert_exporter": "python",
   "pygments_lexer": "ipython3",
   "version": "3.6.1"
  }
 },
 "nbformat": 4,
 "nbformat_minor": 2
}
